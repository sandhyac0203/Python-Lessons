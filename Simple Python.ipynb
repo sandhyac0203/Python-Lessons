{
 "cells": [
  {
   "cell_type": "markdown",
   "metadata": {},
   "source": [
    "### One-way decisions"
   ]
  },
  {
   "cell_type": "code",
   "execution_count": 1,
   "metadata": {},
   "outputs": [
    {
     "name": "stdout",
     "output_type": "stream",
     "text": [
      "Before 5\n",
      "Is 5\n",
      "Is still 5\n",
      "Third 5\n",
      "Afterwards 5\n",
      "Before 6\n",
      "Afterwards 6\n"
     ]
    }
   ],
   "source": [
    "# Because x =5, all blocks below it runs. And X is not equal to 6, python skips the block below it\n",
    "\n",
    "x=5\n",
    "print('Before 5')\n",
    "if x==5:\n",
    "    print('Is 5')\n",
    "    print('Is still 5')\n",
    "    print('Third 5')\n",
    "print('Afterwards 5') \n",
    "print('Before 6')\n",
    "if x ==6:\n",
    "    print('Is 6')\n",
    "    print('Is still 6')\n",
    "    print('Third 6')\n",
    "print('Afterwards 6') \n",
    "    "
   ]
  },
  {
   "cell_type": "code",
   "execution_count": 3,
   "metadata": {},
   "outputs": [
    {
     "name": "stdout",
     "output_type": "stream",
     "text": [
      "Bigger than 2\n",
      "Still Bigger\n",
      "Done with 2\n"
     ]
    }
   ],
   "source": [
    "x=5\n",
    "if x >2:\n",
    "    print('Bigger than 2')\n",
    "    print('Still Bigger')\n",
    "print ('Done with 2')    \n",
    " "
   ]
  },
  {
   "cell_type": "code",
   "execution_count": 4,
   "metadata": {},
   "outputs": [
    {
     "name": "stdout",
     "output_type": "stream",
     "text": [
      "0\n",
      "Done with i 0\n",
      "1\n",
      "Done with i 1\n",
      "2\n",
      "Done with i 2\n",
      "3\n",
      "Bigger than 2\n",
      "Done with i 3\n",
      "4\n",
      "Bigger than 2\n",
      "Done with i 4\n",
      "Done All\n"
     ]
    }
   ],
   "source": [
    "# Nested loop - Block within a block\n",
    "\n",
    "for i in range (5):\n",
    "    print (i)\n",
    "    if i > 2:\n",
    "        print('Bigger than 2')\n",
    "    print ('Done with i',i)    \n",
    "print('Done All')    \n",
    "    "
   ]
  },
  {
   "cell_type": "code",
   "execution_count": 5,
   "metadata": {},
   "outputs": [
    {
     "name": "stdout",
     "output_type": "stream",
     "text": [
      "More than one\n",
      "Less than 100\n",
      "All Done\n"
     ]
    }
   ],
   "source": [
    "# Nested Decisions\n",
    "\n",
    "x=42\n",
    "if x > 1:\n",
    "    print ('More than one')\n",
    "    if x <100:\n",
    "        print('Less than 100')\n",
    "print ('All Done')        "
   ]
  },
  {
   "cell_type": "code",
   "execution_count": 7,
   "metadata": {},
   "outputs": [
    {
     "name": "stdout",
     "output_type": "stream",
     "text": [
      "More than one\n",
      "All Done\n"
     ]
    }
   ],
   "source": [
    "x=101\n",
    "if x > 1:\n",
    "    print ('More than one')\n",
    "    if x <100:\n",
    "        print('Less than 100')\n",
    "print ('All Done')"
   ]
  },
  {
   "cell_type": "markdown",
   "metadata": {},
   "source": [
    "### Two-Way Decisions\n",
    "\n"
   ]
  },
  {
   "cell_type": "code",
   "execution_count": 8,
   "metadata": {},
   "outputs": [
    {
     "name": "stdout",
     "output_type": "stream",
     "text": [
      "Bigger\n",
      "All Done\n"
     ]
    }
   ],
   "source": [
    "x=4\n",
    "if x > 2:\n",
    "    print('Bigger')\n",
    "else:\n",
    "    print('Smaller')\n",
    "print('All Done')    "
   ]
  },
  {
   "cell_type": "code",
   "execution_count": 9,
   "metadata": {},
   "outputs": [
    {
     "name": "stdout",
     "output_type": "stream",
     "text": [
      "Smaller\n",
      "All Done\n"
     ]
    }
   ],
   "source": [
    "x=1\n",
    "if x > 2:\n",
    "    print('Bigger')\n",
    "else:\n",
    "    print('Smaller')\n",
    "print('All Done') "
   ]
  },
  {
   "cell_type": "markdown",
   "metadata": {},
   "source": [
    "### Multi- Way"
   ]
  },
  {
   "cell_type": "code",
   "execution_count": 2,
   "metadata": {},
   "outputs": [
    {
     "name": "stdout",
     "output_type": "stream",
     "text": [
      "Large\n",
      "All Done\n"
     ]
    }
   ],
   "source": [
    "x=10\n",
    "if x < 2:\n",
    "    print ('small')\n",
    "elif x < 10:\n",
    "    print('Medium')\n",
    "else:\n",
    "    print('Large')\n",
    "print('All Done')    "
   ]
  },
  {
   "cell_type": "markdown",
   "metadata": {},
   "source": [
    "### Trace Back"
   ]
  },
  {
   "cell_type": "code",
   "execution_count": 4,
   "metadata": {},
   "outputs": [
    {
     "ename": "ValueError",
     "evalue": "invalid literal for int() with base 10: 'Hello Bob'",
     "output_type": "error",
     "traceback": [
      "\u001b[0;31m---------------------------------------------------------------------------\u001b[0m",
      "\u001b[0;31mValueError\u001b[0m                                Traceback (most recent call last)",
      "\u001b[0;32m<ipython-input-4-6839685957e4>\u001b[0m in \u001b[0;36m<module>\u001b[0;34m()\u001b[0m\n\u001b[1;32m      1\u001b[0m \u001b[0mastr\u001b[0m\u001b[0;34m=\u001b[0m\u001b[0;34m'Hello Bob'\u001b[0m\u001b[0;34m\u001b[0m\u001b[0m\n\u001b[0;32m----> 2\u001b[0;31m \u001b[0mistr\u001b[0m\u001b[0;34m=\u001b[0m\u001b[0mint\u001b[0m\u001b[0;34m(\u001b[0m\u001b[0mastr\u001b[0m\u001b[0;34m)\u001b[0m\u001b[0;34m\u001b[0m\u001b[0m\n\u001b[0m",
      "\u001b[0;31mValueError\u001b[0m: invalid literal for int() with base 10: 'Hello Bob'"
     ]
    }
   ],
   "source": [
    "astr='Hello Bob'\n",
    "istr=int(astr)"
   ]
  },
  {
   "cell_type": "code",
   "execution_count": 5,
   "metadata": {},
   "outputs": [
    {
     "name": "stdout",
     "output_type": "stream",
     "text": [
      "First -1\n"
     ]
    }
   ],
   "source": [
    "astr='Hello Bob'\n",
    "try:\n",
    "    istr=int(astr)\n",
    "except:\n",
    "    istr=-1\n",
    "    \n",
    "print ('First', istr)    \n",
    "    "
   ]
  },
  {
   "cell_type": "code",
   "execution_count": 6,
   "metadata": {},
   "outputs": [
    {
     "name": "stdout",
     "output_type": "stream",
     "text": [
      "Second 123\n"
     ]
    }
   ],
   "source": [
    "astr='123'\n",
    "try:\n",
    "    istr=int(astr)\n",
    "except:\n",
    "    istr=-1\n",
    "print ('Second', istr)      "
   ]
  },
  {
   "cell_type": "code",
   "execution_count": 9,
   "metadata": {},
   "outputs": [
    {
     "name": "stdout",
     "output_type": "stream",
     "text": [
      "Hello\n",
      "Done -1\n"
     ]
    }
   ],
   "source": [
    "astr='Bob'\n",
    "try:\n",
    "    print('Hello')\n",
    "    istr=int(astr)\n",
    "    print ('There')\n",
    "except:\n",
    "    istr=-1\n",
    "    \n",
    "print ('Done', istr)  "
   ]
  },
  {
   "cell_type": "code",
   "execution_count": 19,
   "metadata": {},
   "outputs": [
    {
     "name": "stdout",
     "output_type": "stream",
     "text": [
      "Enter a Number:four\n",
      "Not a Number\n"
     ]
    }
   ],
   "source": [
    "rawstr=input('Enter a Number:')\n",
    "\n",
    "\n",
    "try:\n",
    "    ival=int(rawstr)\n",
    "except:\n",
    "    ival= -1\n",
    "if ival >0:\n",
    "    print('Nice Work')\n",
    "else:\n",
    "    print('Not a Number')    "
   ]
  },
  {
   "cell_type": "markdown",
   "metadata": {},
   "source": [
    "### Functions"
   ]
  },
  {
   "cell_type": "code",
   "execution_count": 20,
   "metadata": {},
   "outputs": [
    {
     "name": "stdout",
     "output_type": "stream",
     "text": [
      "Hello\n",
      "Fun\n",
      "Zip\n",
      "Hello\n",
      "Fun\n"
     ]
    }
   ],
   "source": [
    "def thing():\n",
    "    print ('Hello')\n",
    "    print('Fun')\n",
    "    \n",
    "thing()    \n",
    "print('Zip')\n",
    "thing() "
   ]
  },
  {
   "cell_type": "code",
   "execution_count": 26,
   "metadata": {},
   "outputs": [
    {
     "name": "stdout",
     "output_type": "stream",
     "text": [
      "w\n"
     ]
    }
   ],
   "source": [
    "big= max ('Hello world')\n",
    "print(big)"
   ]
  },
  {
   "cell_type": "code",
   "execution_count": 28,
   "metadata": {},
   "outputs": [
    {
     "name": "stdout",
     "output_type": "stream",
     "text": [
      " \n"
     ]
    }
   ],
   "source": [
    "tiny=min('Hello world')\n",
    "print(tiny)"
   ]
  },
  {
   "cell_type": "code",
   "execution_count": 30,
   "metadata": {},
   "outputs": [
    {
     "data": {
      "text/plain": [
       "0.99"
      ]
     },
     "execution_count": 30,
     "metadata": {},
     "output_type": "execute_result"
    }
   ],
   "source": [
    "float(99)/100"
   ]
  },
  {
   "cell_type": "code",
   "execution_count": 31,
   "metadata": {},
   "outputs": [
    {
     "name": "stdout",
     "output_type": "stream",
     "text": [
      "42.0\n"
     ]
    }
   ],
   "source": [
    "i=42\n",
    "type(i)\n",
    "f=float(i)\n",
    "print(f)"
   ]
  },
  {
   "cell_type": "code",
   "execution_count": 32,
   "metadata": {},
   "outputs": [
    {
     "data": {
      "text/plain": [
       "float"
      ]
     },
     "execution_count": 32,
     "metadata": {},
     "output_type": "execute_result"
    }
   ],
   "source": [
    "type(f)"
   ]
  },
  {
   "cell_type": "code",
   "execution_count": 33,
   "metadata": {},
   "outputs": [
    {
     "name": "stdout",
     "output_type": "stream",
     "text": [
      "-2.5\n"
     ]
    }
   ],
   "source": [
    "print( 1+2 *float(3)/4-5)"
   ]
  },
  {
   "cell_type": "code",
   "execution_count": 34,
   "metadata": {},
   "outputs": [
    {
     "data": {
      "text/plain": [
       "str"
      ]
     },
     "execution_count": 34,
     "metadata": {},
     "output_type": "execute_result"
    }
   ],
   "source": [
    "sval ='123'\n",
    "type(sval)"
   ]
  },
  {
   "cell_type": "code",
   "execution_count": 36,
   "metadata": {},
   "outputs": [
    {
     "ename": "TypeError",
     "evalue": "can only concatenate str (not \"int\") to str",
     "output_type": "error",
     "traceback": [
      "\u001b[0;31m---------------------------------------------------------------------------\u001b[0m",
      "\u001b[0;31mTypeError\u001b[0m                                 Traceback (most recent call last)",
      "\u001b[0;32m<ipython-input-36-c3b39bae4cf7>\u001b[0m in \u001b[0;36m<module>\u001b[0;34m()\u001b[0m\n\u001b[0;32m----> 1\u001b[0;31m \u001b[0mprint\u001b[0m \u001b[0;34m(\u001b[0m\u001b[0msval\u001b[0m\u001b[0;34m+\u001b[0m\u001b[0;36m1\u001b[0m\u001b[0;34m)\u001b[0m\u001b[0;34m\u001b[0m\u001b[0m\n\u001b[0m",
      "\u001b[0;31mTypeError\u001b[0m: can only concatenate str (not \"int\") to str"
     ]
    }
   ],
   "source": [
    "print (sval+1)"
   ]
  },
  {
   "cell_type": "code",
   "execution_count": 38,
   "metadata": {},
   "outputs": [
    {
     "data": {
      "text/plain": [
       "int"
      ]
     },
     "execution_count": 38,
     "metadata": {},
     "output_type": "execute_result"
    }
   ],
   "source": [
    "ival=int(sval)\n",
    "type(ival)"
   ]
  },
  {
   "cell_type": "code",
   "execution_count": 39,
   "metadata": {},
   "outputs": [
    {
     "name": "stdout",
     "output_type": "stream",
     "text": [
      "124\n"
     ]
    }
   ],
   "source": [
    "print(ival+1)"
   ]
  },
  {
   "cell_type": "code",
   "execution_count": 40,
   "metadata": {},
   "outputs": [
    {
     "ename": "ValueError",
     "evalue": "invalid literal for int() with base 10: 'Hello Bob'",
     "output_type": "error",
     "traceback": [
      "\u001b[0;31m---------------------------------------------------------------------------\u001b[0m",
      "\u001b[0;31mValueError\u001b[0m                                Traceback (most recent call last)",
      "\u001b[0;32m<ipython-input-40-1028bba55a84>\u001b[0m in \u001b[0;36m<module>\u001b[0;34m()\u001b[0m\n\u001b[1;32m      1\u001b[0m \u001b[0mnsv\u001b[0m\u001b[0;34m=\u001b[0m\u001b[0;34m'Hello Bob'\u001b[0m\u001b[0;34m\u001b[0m\u001b[0m\n\u001b[0;32m----> 2\u001b[0;31m \u001b[0mniv\u001b[0m\u001b[0;34m=\u001b[0m\u001b[0mint\u001b[0m\u001b[0;34m(\u001b[0m\u001b[0mnsv\u001b[0m\u001b[0;34m)\u001b[0m\u001b[0;34m\u001b[0m\u001b[0m\n\u001b[0m",
      "\u001b[0;31mValueError\u001b[0m: invalid literal for int() with base 10: 'Hello Bob'"
     ]
    }
   ],
   "source": [
    "nsv='Hello Bob'\n",
    "niv=int(nsv)"
   ]
  },
  {
   "cell_type": "markdown",
   "metadata": {},
   "source": [
    "### Building Functions"
   ]
  },
  {
   "cell_type": "code",
   "execution_count": 3,
   "metadata": {},
   "outputs": [
    {
     "name": "stdout",
     "output_type": "stream",
     "text": [
      "Hello\n",
      "Yo\n",
      "I'm a lumberjack and I'm okay.\n",
      "I sleep all night and work all day.\n",
      "7\n"
     ]
    }
   ],
   "source": [
    "# Simple function and invoking it\n",
    "x=5\n",
    "print(\"Hello\")\n",
    "\n",
    "def print_lyrics():\n",
    "    print(\"I'm a lumberjack and I'm okay.\")\n",
    "    print(\"I sleep all night and work all day.\")\n",
    "print('Yo')    \n",
    "print_lyrics()\n",
    "x=x+2\n",
    "print(x)"
   ]
  },
  {
   "cell_type": "code",
   "execution_count": 8,
   "metadata": {},
   "outputs": [
    {
     "name": "stdout",
     "output_type": "stream",
     "text": [
      "Hola\n",
      "Bonjour\n",
      "Hello\n"
     ]
    }
   ],
   "source": [
    "def greet(lang):\n",
    "    if lang=='es':\n",
    "        print('Hola')\n",
    "    elif lang=='fr':\n",
    "        print('Bonjour')\n",
    "    else:\n",
    "        print('Hello')\n",
    "greet('es') \n",
    "greet('fr')\n",
    "greet('en')"
   ]
  },
  {
   "cell_type": "code",
   "execution_count": 11,
   "metadata": {},
   "outputs": [
    {
     "name": "stdout",
     "output_type": "stream",
     "text": [
      "Hello Glenn\n"
     ]
    }
   ],
   "source": [
    "def greet():\n",
    "    return \"Hello\"\n",
    "\n",
    "print(greet(),\"Glenn\")"
   ]
  },
  {
   "cell_type": "code",
   "execution_count": 13,
   "metadata": {},
   "outputs": [
    {
     "name": "stdout",
     "output_type": "stream",
     "text": [
      "Hola Sally\n"
     ]
    }
   ],
   "source": [
    "def greet(lang):\n",
    "    if lang=='es':\n",
    "        return('Hola')\n",
    "    elif lang=='fr':\n",
    "        return('Bonjour')\n",
    "    else:\n",
    "        return('Hello')\n",
    "print(greet('es'),\"Sally\") \n"
   ]
  },
  {
   "cell_type": "code",
   "execution_count": 14,
   "metadata": {},
   "outputs": [
    {
     "name": "stdout",
     "output_type": "stream",
     "text": [
      "w\n"
     ]
    }
   ],
   "source": [
    "big =max('Hello world')\n",
    "print(big)"
   ]
  },
  {
   "cell_type": "code",
   "execution_count": 16,
   "metadata": {},
   "outputs": [
    {
     "name": "stdout",
     "output_type": "stream",
     "text": [
      "8\n"
     ]
    }
   ],
   "source": [
    "def addtwo (a,b):\n",
    "    added= a+b\n",
    "    return added\n",
    "\n",
    "x=addtwo(3,5)\n",
    "print (x)"
   ]
  },
  {
   "cell_type": "markdown",
   "metadata": {},
   "source": [
    "### Loops and Iteration"
   ]
  },
  {
   "cell_type": "code",
   "execution_count": 17,
   "metadata": {},
   "outputs": [
    {
     "name": "stdout",
     "output_type": "stream",
     "text": [
      "5\n",
      "4\n",
      "3\n",
      "2\n",
      "1\n",
      "BlastOff!\n",
      "Done\n"
     ]
    }
   ],
   "source": [
    "n=5\n",
    "while n> 0:\n",
    "    print(n)\n",
    "    n=n-1\n",
    "print (\"BlastOff!\")   \n",
    "print (\"Done\")\n",
    "\n",
    "# When you use While statements, ensure you have an end point or make the statement false, \n",
    "# else the loop will become infinite loop and cannot get out of the loop forever. "
   ]
  },
  {
   "cell_type": "markdown",
   "metadata": {},
   "source": [
    "### Breaking out of a loop"
   ]
  },
  {
   "cell_type": "code",
   "execution_count": 22,
   "metadata": {},
   "outputs": [
    {
     "name": "stdout",
     "output_type": "stream",
     "text": [
      ">>\n",
      ">\n",
      ">Done\n",
      "Done\n"
     ]
    }
   ],
   "source": [
    "while True:\n",
    "    line =input('>')\n",
    "    if line=='Done':\n",
    "        break\n",
    "    print(line)\n",
    "print('Done')                "
   ]
  },
  {
   "cell_type": "code",
   "execution_count": 24,
   "metadata": {},
   "outputs": [
    {
     "name": "stdout",
     "output_type": "stream",
     "text": [
      ">Hello\n",
      "Hello\n",
      ">#where\n",
      "#where\n",
      ">Done\n",
      "Done\n"
     ]
    }
   ],
   "source": [
    "while True:\n",
    "    line =input('>')\n",
    "    if line=='#':\n",
    "        continue\n",
    "    if line=='Done':    \n",
    "        break\n",
    "    print(line)\n",
    "print('Done') \n",
    "\n",
    "# Break skips out of the loop and continue goes to the top of the loop (for next iteration)"
   ]
  },
  {
   "cell_type": "markdown",
   "metadata": {},
   "source": [
    "### Definite Loop"
   ]
  },
  {
   "cell_type": "code",
   "execution_count": 25,
   "metadata": {},
   "outputs": [
    {
     "name": "stdout",
     "output_type": "stream",
     "text": [
      "5\n",
      "4\n",
      "3\n",
      "2\n",
      "1\n",
      "Blastoff\n"
     ]
    }
   ],
   "source": [
    "for i in [5,4,3,2,1]:\n",
    "    print (i)\n",
    "print ('Blastoff')    "
   ]
  },
  {
   "cell_type": "code",
   "execution_count": 29,
   "metadata": {},
   "outputs": [
    {
     "name": "stdout",
     "output_type": "stream",
     "text": [
      "Hello ['Abby', 'Bob', 'Carl']\n",
      "Hello ['Abby', 'Bob', 'Carl']\n",
      "Hello ['Abby', 'Bob', 'Carl']\n",
      "Done\n"
     ]
    }
   ],
   "source": [
    "friends =['Abby', 'Bob', 'Carl']\n",
    "\n",
    "for friend in friends:\n",
    "    print('Hello',friends)\n",
    "print ('Done')   "
   ]
  },
  {
   "cell_type": "markdown",
   "metadata": {},
   "source": [
    "### For Loops"
   ]
  },
  {
   "cell_type": "code",
   "execution_count": 1,
   "metadata": {},
   "outputs": [
    {
     "name": "stdout",
     "output_type": "stream",
     "text": [
      "Before\n",
      "thing\n",
      "thing\n",
      "thing\n",
      "thing\n",
      "thing\n",
      "thing\n",
      "After\n"
     ]
    }
   ],
   "source": [
    "print ('Before')\n",
    "\n",
    "for thing in [ 9, 41, 12, 3, 74, 15]:\n",
    "    print ('thing')\n",
    "    \n",
    "print('After')    "
   ]
  },
  {
   "cell_type": "code",
   "execution_count": 2,
   "metadata": {},
   "outputs": [
    {
     "name": "stdout",
     "output_type": "stream",
     "text": [
      "Before -1\n",
      "9 9\n",
      "41 41\n",
      "41 12\n",
      "41 3\n",
      "74 74\n",
      "74 5\n",
      "After 74\n"
     ]
    }
   ],
   "source": [
    "# Finding the largest value\n",
    "\n",
    "largest_so_far=-1\n",
    "\n",
    "print('Before',largest_so_far)\n",
    "\n",
    "for the_num in [ 9, 41, 12, 3, 74, 5]:\n",
    "    if the_num > largest_so_far:\n",
    "        largest_so_far =the_num\n",
    "    print(largest_so_far,the_num)\n",
    "    \n",
    "print('After',largest_so_far)    "
   ]
  },
  {
   "cell_type": "markdown",
   "metadata": {},
   "source": [
    "### Loop Idioms"
   ]
  },
  {
   "cell_type": "code",
   "execution_count": 3,
   "metadata": {},
   "outputs": [
    {
     "name": "stdout",
     "output_type": "stream",
     "text": [
      "Before 0\n",
      "1 9\n",
      "2 41\n",
      "3 12\n",
      "4 3\n",
      "5 74\n",
      "6 5\n",
      "After 6\n"
     ]
    }
   ],
   "source": [
    "# Counting in a loop\n",
    "\n",
    "zork=0\n",
    "print('Before',zork)\n",
    "for thing in [9, 41, 12, 3, 74, 5]:\n",
    "    zork=zork+1\n",
    "    print(zork,thing)\n",
    "print('After',zork)    "
   ]
  },
  {
   "cell_type": "code",
   "execution_count": 4,
   "metadata": {},
   "outputs": [
    {
     "name": "stdout",
     "output_type": "stream",
     "text": [
      "Before 0 0\n",
      "1 9 9\n",
      "2 50 41\n",
      "3 62 12\n",
      "4 65 3\n",
      "5 139 74\n",
      "6 154 15\n",
      "After 6 154 25.666666666666668\n"
     ]
    }
   ],
   "source": [
    "# Finding the average in a loop\n",
    "\n",
    "count=0\n",
    "sum=0\n",
    "print ('Before', count, sum)\n",
    "for value in [9, 41,12,3,74,15]:\n",
    "    count=count+1\n",
    "    sum=sum+value\n",
    "    print(count, sum, value)\n",
    "print ('After',count, sum, sum/count)    \n",
    "    "
   ]
  },
  {
   "cell_type": "code",
   "execution_count": 5,
   "metadata": {},
   "outputs": [
    {
     "name": "stdout",
     "output_type": "stream",
     "text": [
      "Before\n",
      "LargeNumber 41\n",
      "LargeNumber 74\n",
      "After\n"
     ]
    }
   ],
   "source": [
    "# Filtering in a loop\n",
    "\n",
    "print('Before')\n",
    "for value in [9, 41,12,3,74,15]:\n",
    "    if value > 20:\n",
    "        print('LargeNumber',value)\n",
    "print('After')        "
   ]
  },
  {
   "cell_type": "code",
   "execution_count": 7,
   "metadata": {},
   "outputs": [
    {
     "name": "stdout",
     "output_type": "stream",
     "text": [
      "Before False\n",
      "False 9\n",
      "False 41\n",
      "False 12\n",
      "True 3\n",
      "True 74\n",
      "True 15\n",
      "After True\n"
     ]
    }
   ],
   "source": [
    "# Search using a boolean value\n",
    "\n",
    "found=False\n",
    "\n",
    "print('Before',found)\n",
    "for value in [9, 41,12,3,74,15]:\n",
    "    if value==3:\n",
    "        found=True\n",
    "    print(found, value) \n",
    "print('After',found)    "
   ]
  },
  {
   "cell_type": "code",
   "execution_count": 8,
   "metadata": {},
   "outputs": [
    {
     "name": "stdout",
     "output_type": "stream",
     "text": [
      "Before -1\n",
      "-1 9\n",
      "-1 41\n",
      "-1 12\n",
      "-1 3\n",
      "-1 74\n",
      "-1 5\n",
      "After -1\n"
     ]
    }
   ],
   "source": [
    "# Finding the smallest number\n",
    "\n",
    "# This is wrong\n",
    "\n",
    "smallest_so_far=-1\n",
    "\n",
    "print('Before',smallest_so_far)\n",
    "\n",
    "for the_num in [ 9, 41, 12, 3, 74, 5]:\n",
    "    if the_num < smallest_so_far:\n",
    "        smallest_so_far =the_num\n",
    "    print(smallest_so_far,the_num)\n",
    "    \n",
    "print('After',smallest_so_far) "
   ]
  },
  {
   "cell_type": "code",
   "execution_count": 12,
   "metadata": {},
   "outputs": [
    {
     "name": "stdout",
     "output_type": "stream",
     "text": [
      "Before None\n",
      "9 9\n",
      "9 41\n",
      "9 12\n",
      "3 3\n",
      "3 74\n",
      "3 5\n",
      "After 3\n"
     ]
    }
   ],
   "source": [
    "# This is correct\n",
    "\n",
    "smallest_so_far=None\n",
    "\n",
    "print('Before',smallest_so_far)\n",
    "\n",
    "for the_num in [ 9, 41, 12, 3, 74, 5]:\n",
    "    \n",
    "    if smallest_so_far is None:\n",
    "        smallest_so_far =the_num\n",
    "    elif the_num < smallest_so_far:\n",
    "        smallest_so_far =the_num\n",
    "    print(smallest_so_far,the_num)\n",
    "    \n",
    "print('After',smallest_so_far) \n",
    "\n",
    "\n",
    "# You can use is and is not instead of = and !="
   ]
  },
  {
   "cell_type": "code",
   "execution_count": null,
   "metadata": {},
   "outputs": [],
   "source": []
  }
 ],
 "metadata": {
  "kernelspec": {
   "display_name": "Python 3",
   "language": "python",
   "name": "python3"
  },
  "language_info": {
   "codemirror_mode": {
    "name": "ipython",
    "version": 3
   },
   "file_extension": ".py",
   "mimetype": "text/x-python",
   "name": "python",
   "nbconvert_exporter": "python",
   "pygments_lexer": "ipython3",
   "version": "3.7.0"
  }
 },
 "nbformat": 4,
 "nbformat_minor": 2
}
