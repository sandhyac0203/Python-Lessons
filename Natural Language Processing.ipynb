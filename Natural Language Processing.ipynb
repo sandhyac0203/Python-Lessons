{
 "cells": [
  {
   "cell_type": "markdown",
   "metadata": {},
   "source": [
    "## Basic NLP Tasks using NLTK -> Natural Language Tool Kit"
   ]
  },
  {
   "cell_type": "code",
   "execution_count": 2,
   "metadata": {},
   "outputs": [
    {
     "name": "stdout",
     "output_type": "stream",
     "text": [
      "*** Introductory Examples for the NLTK Book ***\n",
      "Loading text1, ..., text9 and sent1, ..., sent9\n",
      "Type the name of the text or sentence to view it.\n",
      "Type: 'texts()' or 'sents()' to list the materials.\n",
      "text1: Moby Dick by Herman Melville 1851\n",
      "text2: Sense and Sensibility by Jane Austen 1811\n",
      "text3: The Book of Genesis\n",
      "text4: Inaugural Address Corpus\n",
      "text5: Chat Corpus\n",
      "text6: Monty Python and the Holy Grail\n",
      "text7: Wall Street Journal\n",
      "text8: Personals Corpus\n",
      "text9: The Man Who Was Thursday by G . K . Chesterton 1908\n"
     ]
    }
   ],
   "source": [
    "import nltk\n",
    "#nltk.download()\n",
    "from nltk.book import *\n",
    "# To get text corpora\n",
    "# This could make us download the following -\n",
    "#nltk.download('inaugural')\n",
    "#nltk.download('nps_chat')\n",
    "#nltk.download('webtext')\n",
    "#nltk.download('treebank')"
   ]
  },
  {
   "cell_type": "code",
   "execution_count": 3,
   "metadata": {},
   "outputs": [
    {
     "data": {
      "text/plain": [
       "<Text: Moby Dick by Herman Melville 1851>"
      ]
     },
     "execution_count": 3,
     "metadata": {},
     "output_type": "execute_result"
    }
   ],
   "source": [
    "text1"
   ]
  },
  {
   "cell_type": "code",
   "execution_count": 4,
   "metadata": {},
   "outputs": [
    {
     "name": "stdout",
     "output_type": "stream",
     "text": [
      "sent1: Call me Ishmael .\n",
      "sent2: The family of Dashwood had long been settled in Sussex .\n",
      "sent3: In the beginning God created the heaven and the earth .\n",
      "sent4: Fellow - Citizens of the Senate and of the House of Representatives :\n",
      "sent5: I have a problem with people PMing me to lol JOIN\n",
      "sent6: SCENE 1 : [ wind ] [ clop clop clop ] KING ARTHUR : Whoa there !\n",
      "sent7: Pierre Vinken , 61 years old , will join the board as a nonexecutive director Nov. 29 .\n",
      "sent8: 25 SEXY MALE , seeks attrac older single lady , for discreet encounters .\n",
      "sent9: THE suburb of Saffron Park lay on the sunset side of London , as red and ragged as a cloud of sunset .\n"
     ]
    }
   ],
   "source": [
    "# To view what sentences are there in each corpora\n",
    "sents()"
   ]
  },
  {
   "cell_type": "code",
   "execution_count": 5,
   "metadata": {},
   "outputs": [
    {
     "data": {
      "text/plain": [
       "['Call', 'me', 'Ishmael', '.']"
      ]
     },
     "execution_count": 5,
     "metadata": {},
     "output_type": "execute_result"
    }
   ],
   "source": [
    "sent1"
   ]
  },
  {
   "cell_type": "code",
   "execution_count": 6,
   "metadata": {},
   "outputs": [
    {
     "data": {
      "text/plain": [
       "<Text: Wall Street Journal>"
      ]
     },
     "execution_count": 6,
     "metadata": {},
     "output_type": "execute_result"
    }
   ],
   "source": [
    "# Counting vocab of words\n",
    "text7"
   ]
  },
  {
   "cell_type": "code",
   "execution_count": 7,
   "metadata": {},
   "outputs": [
    {
     "data": {
      "text/plain": [
       "['Pierre',\n",
       " 'Vinken',\n",
       " ',',\n",
       " '61',\n",
       " 'years',\n",
       " 'old',\n",
       " ',',\n",
       " 'will',\n",
       " 'join',\n",
       " 'the',\n",
       " 'board',\n",
       " 'as',\n",
       " 'a',\n",
       " 'nonexecutive',\n",
       " 'director',\n",
       " 'Nov.',\n",
       " '29',\n",
       " '.']"
      ]
     },
     "execution_count": 7,
     "metadata": {},
     "output_type": "execute_result"
    }
   ],
   "source": [
    "sent7"
   ]
  },
  {
   "cell_type": "code",
   "execution_count": 8,
   "metadata": {},
   "outputs": [
    {
     "data": {
      "text/plain": [
       "18"
      ]
     },
     "execution_count": 8,
     "metadata": {},
     "output_type": "execute_result"
    }
   ],
   "source": [
    "len(sent7)"
   ]
  },
  {
   "cell_type": "code",
   "execution_count": 9,
   "metadata": {},
   "outputs": [
    {
     "data": {
      "text/plain": [
       "100676"
      ]
     },
     "execution_count": 9,
     "metadata": {},
     "output_type": "execute_result"
    }
   ],
   "source": [
    "len(text7)"
   ]
  },
  {
   "cell_type": "code",
   "execution_count": 10,
   "metadata": {},
   "outputs": [
    {
     "data": {
      "text/plain": [
       "12408"
      ]
     },
     "execution_count": 10,
     "metadata": {},
     "output_type": "execute_result"
    }
   ],
   "source": [
    "# unique words\n",
    "\n",
    "len(set(text7))"
   ]
  },
  {
   "cell_type": "code",
   "execution_count": 11,
   "metadata": {},
   "outputs": [
    {
     "data": {
      "text/plain": [
       "['center',\n",
       " 'hydraulically',\n",
       " '185.9',\n",
       " 'Publishing',\n",
       " 'grant',\n",
       " 'desultory',\n",
       " 'codified',\n",
       " 'You',\n",
       " '99.1',\n",
       " 'freshman']"
      ]
     },
     "execution_count": 11,
     "metadata": {},
     "output_type": "execute_result"
    }
   ],
   "source": [
    "# Listing first 10 unique words\n",
    "list(set(text7))[:10]"
   ]
  },
  {
   "cell_type": "code",
   "execution_count": 12,
   "metadata": {},
   "outputs": [
    {
     "data": {
      "text/plain": [
       "FreqDist({',': 4885, 'the': 4045, '.': 3828, 'of': 2319, 'to': 2164, 'a': 1878, 'in': 1572, 'and': 1511, '*-1': 1123, '0': 1099, ...})"
      ]
     },
     "execution_count": 12,
     "metadata": {},
     "output_type": "execute_result"
    }
   ],
   "source": [
    "# Frequency of words\n",
    "dist=FreqDist(text7)\n",
    "dist"
   ]
  },
  {
   "cell_type": "code",
   "execution_count": 13,
   "metadata": {},
   "outputs": [
    {
     "data": {
      "text/plain": [
       "12408"
      ]
     },
     "execution_count": 13,
     "metadata": {},
     "output_type": "execute_result"
    }
   ],
   "source": [
    "len(dist)"
   ]
  },
  {
   "cell_type": "code",
   "execution_count": 14,
   "metadata": {},
   "outputs": [
    {
     "data": {
      "text/plain": [
       "['Pierre', 'Vinken', ',', '61', 'years', 'old', 'will', 'join', 'the', 'board']"
      ]
     },
     "execution_count": 14,
     "metadata": {},
     "output_type": "execute_result"
    }
   ],
   "source": [
    "vocab1=dist.keys()\n",
    "list(vocab1)[:10]"
   ]
  },
  {
   "cell_type": "code",
   "execution_count": 15,
   "metadata": {},
   "outputs": [
    {
     "data": {
      "text/plain": [
       "20"
      ]
     },
     "execution_count": 15,
     "metadata": {},
     "output_type": "execute_result"
    }
   ],
   "source": [
    "dist['four']"
   ]
  },
  {
   "cell_type": "code",
   "execution_count": 16,
   "metadata": {},
   "outputs": [
    {
     "data": {
      "text/plain": [
       "['billion',\n",
       " 'company',\n",
       " 'president',\n",
       " 'because',\n",
       " 'market',\n",
       " 'million',\n",
       " 'shares',\n",
       " 'trading',\n",
       " 'program']"
      ]
     },
     "execution_count": 16,
     "metadata": {},
     "output_type": "execute_result"
    }
   ],
   "source": [
    "# Words that are greater than 5 letters and appear over 100 times in the text\n",
    "freqwords=[w for w in vocab1 if len(w)>5 and dist[w]>100]\n",
    "freqwords"
   ]
  },
  {
   "cell_type": "markdown",
   "metadata": {},
   "source": [
    "### Normalization and Stemming"
   ]
  },
  {
   "cell_type": "code",
   "execution_count": 17,
   "metadata": {},
   "outputs": [
    {
     "data": {
      "text/plain": [
       "['list', 'listed', 'lists', 'listing', 'listings']"
      ]
     },
     "execution_count": 17,
     "metadata": {},
     "output_type": "execute_result"
    }
   ],
   "source": [
    "input1 = \"List listed lists listing listings\"\n",
    "words1=input1.lower().split(' ')\n",
    "words1"
   ]
  },
  {
   "cell_type": "code",
   "execution_count": 18,
   "metadata": {},
   "outputs": [
    {
     "data": {
      "text/plain": [
       "['list', 'list', 'list', 'list', 'list']"
      ]
     },
     "execution_count": 18,
     "metadata": {},
     "output_type": "execute_result"
    }
   ],
   "source": [
    "# All words are changed into list -> Gives words stem\n",
    "porter=nltk.PorterStemmer()\n",
    "\n",
    "[porter.stem(t) for t in words1]"
   ]
  },
  {
   "cell_type": "markdown",
   "metadata": {},
   "source": [
    "### Lemmatization -> This will meaningfully shorten the words and the resulting stem is valid"
   ]
  },
  {
   "cell_type": "code",
   "execution_count": 19,
   "metadata": {},
   "outputs": [
    {
     "data": {
      "text/plain": [
       "['Universal',\n",
       " 'Declaration',\n",
       " 'of',\n",
       " 'Human',\n",
       " 'Rights',\n",
       " 'Preamble',\n",
       " 'Whereas',\n",
       " 'recognition',\n",
       " 'of',\n",
       " 'the',\n",
       " 'inherent',\n",
       " 'dignity',\n",
       " 'and',\n",
       " 'of',\n",
       " 'the',\n",
       " 'equal',\n",
       " 'and',\n",
       " 'inalienable',\n",
       " 'rights',\n",
       " 'of']"
      ]
     },
     "execution_count": 19,
     "metadata": {},
     "output_type": "execute_result"
    }
   ],
   "source": [
    "udhr=nltk.corpus.udhr.words('English-Latin1')\n",
    "udhr[:20]"
   ]
  },
  {
   "cell_type": "code",
   "execution_count": 20,
   "metadata": {},
   "outputs": [
    {
     "data": {
      "text/plain": [
       "['univers',\n",
       " 'declar',\n",
       " 'of',\n",
       " 'human',\n",
       " 'right',\n",
       " 'preambl',\n",
       " 'wherea',\n",
       " 'recognit',\n",
       " 'of',\n",
       " 'the',\n",
       " 'inher',\n",
       " 'digniti',\n",
       " 'and',\n",
       " 'of',\n",
       " 'the',\n",
       " 'equal',\n",
       " 'and',\n",
       " 'inalien',\n",
       " 'right',\n",
       " 'of',\n",
       " 'all',\n",
       " 'member',\n",
       " 'of',\n",
       " 'the',\n",
       " 'human',\n",
       " 'famili',\n",
       " 'is',\n",
       " 'the',\n",
       " 'foundat',\n",
       " 'of',\n",
       " 'freedom',\n",
       " ',',\n",
       " 'justic',\n",
       " 'and',\n",
       " 'peac',\n",
       " 'in',\n",
       " 'the',\n",
       " 'world',\n",
       " ',',\n",
       " 'wherea',\n",
       " 'disregard',\n",
       " 'and',\n",
       " 'contempt',\n",
       " 'for',\n",
       " 'human',\n",
       " 'right',\n",
       " 'have',\n",
       " 'result',\n",
       " 'in',\n",
       " 'barbar',\n",
       " 'act',\n",
       " 'which',\n",
       " 'have',\n",
       " 'outrag',\n",
       " 'the',\n",
       " 'conscienc',\n",
       " 'of',\n",
       " 'mankind',\n",
       " ',',\n",
       " 'and',\n",
       " 'the',\n",
       " 'advent',\n",
       " 'of',\n",
       " 'a',\n",
       " 'world',\n",
       " 'in',\n",
       " 'which',\n",
       " 'human',\n",
       " 'be',\n",
       " 'shall',\n",
       " 'enjoy',\n",
       " 'freedom',\n",
       " 'of',\n",
       " 'speech',\n",
       " 'and',\n",
       " 'belief',\n",
       " 'and',\n",
       " 'freedom',\n",
       " 'from',\n",
       " 'fear',\n",
       " 'and',\n",
       " 'want',\n",
       " 'ha',\n",
       " 'been',\n",
       " 'proclaim',\n",
       " 'as',\n",
       " 'the',\n",
       " 'highest',\n",
       " 'aspir',\n",
       " 'of',\n",
       " 'the',\n",
       " 'common',\n",
       " 'peopl',\n",
       " ',',\n",
       " 'wherea',\n",
       " 'it',\n",
       " 'is',\n",
       " 'essenti',\n",
       " ',',\n",
       " 'if',\n",
       " 'man',\n",
       " 'is',\n",
       " 'not',\n",
       " 'to',\n",
       " 'be',\n",
       " 'compel',\n",
       " 'to',\n",
       " 'have',\n",
       " 'recours',\n",
       " ',',\n",
       " 'as',\n",
       " 'a',\n",
       " 'last',\n",
       " 'resort',\n",
       " ',',\n",
       " 'to',\n",
       " 'rebellion',\n",
       " 'against',\n",
       " 'tyranni',\n",
       " 'and',\n",
       " 'oppress',\n",
       " ',',\n",
       " 'that',\n",
       " 'human',\n",
       " 'right',\n",
       " 'should',\n",
       " 'be',\n",
       " 'protect',\n",
       " 'by',\n",
       " 'the',\n",
       " 'rule',\n",
       " 'of',\n",
       " 'law',\n",
       " ',',\n",
       " 'wherea',\n",
       " 'it',\n",
       " 'is',\n",
       " 'essenti',\n",
       " 'to',\n",
       " 'promot',\n",
       " 'the',\n",
       " 'develop',\n",
       " 'of',\n",
       " 'friendli',\n",
       " 'relat',\n",
       " 'between',\n",
       " 'nation',\n",
       " ',',\n",
       " 'wherea',\n",
       " 'the',\n",
       " 'peopl',\n",
       " 'of',\n",
       " 'the',\n",
       " 'unit',\n",
       " 'nation',\n",
       " 'have',\n",
       " 'in',\n",
       " 'the',\n",
       " 'charter',\n",
       " 'reaffirm',\n",
       " 'their',\n",
       " 'faith',\n",
       " 'in',\n",
       " 'fundament',\n",
       " 'human',\n",
       " 'right',\n",
       " ',',\n",
       " 'in',\n",
       " 'the',\n",
       " 'digniti',\n",
       " 'and',\n",
       " 'worth',\n",
       " 'of',\n",
       " 'the',\n",
       " 'human',\n",
       " 'person',\n",
       " 'and',\n",
       " 'in',\n",
       " 'the',\n",
       " 'equal',\n",
       " 'right',\n",
       " 'of',\n",
       " 'men',\n",
       " 'and',\n",
       " 'women',\n",
       " 'and',\n",
       " 'have',\n",
       " 'determin',\n",
       " 'to',\n",
       " 'promot',\n",
       " 'social',\n",
       " 'progress',\n",
       " 'and',\n",
       " 'better',\n",
       " 'standard',\n",
       " 'of',\n",
       " 'life',\n",
       " 'in',\n",
       " 'larger',\n",
       " 'freedom',\n",
       " ',',\n",
       " 'wherea',\n",
       " 'member',\n",
       " 'state',\n",
       " 'have',\n",
       " 'pledg',\n",
       " 'themselv',\n",
       " 'to',\n",
       " 'achiev',\n",
       " ',',\n",
       " 'in',\n",
       " 'cooper',\n",
       " 'with',\n",
       " 'the',\n",
       " 'unit',\n",
       " 'nation',\n",
       " ',',\n",
       " 'the',\n",
       " 'promot',\n",
       " 'of',\n",
       " 'univers',\n",
       " 'respect',\n",
       " 'for',\n",
       " 'and',\n",
       " 'observ',\n",
       " 'of',\n",
       " 'human',\n",
       " 'right',\n",
       " 'and',\n",
       " 'fundament',\n",
       " 'freedom',\n",
       " ',',\n",
       " 'wherea',\n",
       " 'a',\n",
       " 'common',\n",
       " 'understand',\n",
       " 'of',\n",
       " 'these',\n",
       " 'right',\n",
       " 'and',\n",
       " 'freedom',\n",
       " 'is',\n",
       " 'of',\n",
       " 'the',\n",
       " 'greatest',\n",
       " 'import',\n",
       " 'for',\n",
       " 'the',\n",
       " 'full',\n",
       " 'realiz',\n",
       " 'of',\n",
       " 'thi',\n",
       " 'pledg',\n",
       " ',',\n",
       " 'now',\n",
       " ',',\n",
       " 'therefor',\n",
       " ',',\n",
       " 'the',\n",
       " 'gener',\n",
       " 'assembl',\n",
       " ',',\n",
       " 'proclaim',\n",
       " 'thi',\n",
       " 'univers',\n",
       " 'declar',\n",
       " 'of',\n",
       " 'human',\n",
       " 'right',\n",
       " 'as',\n",
       " 'a',\n",
       " 'common',\n",
       " 'standard',\n",
       " 'of',\n",
       " 'achiev',\n",
       " 'for',\n",
       " 'all',\n",
       " 'peopl',\n",
       " 'and',\n",
       " 'all',\n",
       " 'nation',\n",
       " ',',\n",
       " 'to',\n",
       " 'the',\n",
       " 'end',\n",
       " 'that',\n",
       " 'everi',\n",
       " 'individu',\n",
       " 'and',\n",
       " 'everi',\n",
       " 'organ',\n",
       " 'of',\n",
       " 'societi',\n",
       " ',',\n",
       " 'keep',\n",
       " 'thi',\n",
       " 'declar',\n",
       " 'constantli',\n",
       " 'in',\n",
       " 'mind',\n",
       " ',',\n",
       " 'shall',\n",
       " 'strive',\n",
       " 'by',\n",
       " 'teach',\n",
       " 'and',\n",
       " 'educ',\n",
       " 'to',\n",
       " 'promot',\n",
       " 'respect',\n",
       " 'for',\n",
       " 'these',\n",
       " 'right',\n",
       " 'and',\n",
       " 'freedom',\n",
       " 'and',\n",
       " 'by',\n",
       " 'progress',\n",
       " 'measur',\n",
       " ',',\n",
       " 'nation',\n",
       " 'and',\n",
       " 'intern',\n",
       " ',',\n",
       " 'to',\n",
       " 'secur',\n",
       " 'their',\n",
       " 'univers',\n",
       " 'and',\n",
       " 'effect',\n",
       " 'recognit',\n",
       " 'and',\n",
       " 'observ',\n",
       " ',',\n",
       " 'both',\n",
       " 'among',\n",
       " 'the',\n",
       " 'peopl',\n",
       " 'of',\n",
       " 'member',\n",
       " 'state',\n",
       " 'themselv',\n",
       " 'and',\n",
       " 'among',\n",
       " 'the',\n",
       " 'peopl',\n",
       " 'of',\n",
       " 'territori',\n",
       " 'under',\n",
       " 'their',\n",
       " 'jurisdict',\n",
       " '.',\n",
       " 'articl',\n",
       " '1',\n",
       " 'all',\n",
       " 'human',\n",
       " 'be',\n",
       " 'are',\n",
       " 'born',\n",
       " 'free',\n",
       " 'and',\n",
       " 'equal',\n",
       " 'in',\n",
       " 'digniti',\n",
       " 'and',\n",
       " 'right',\n",
       " '.',\n",
       " 'they',\n",
       " 'are',\n",
       " 'endow',\n",
       " 'with',\n",
       " 'reason',\n",
       " 'and',\n",
       " 'conscienc',\n",
       " 'and',\n",
       " 'should',\n",
       " 'act',\n",
       " 'toward',\n",
       " 'one',\n",
       " 'anoth',\n",
       " 'in',\n",
       " 'a',\n",
       " 'spirit',\n",
       " 'of',\n",
       " 'brotherhood',\n",
       " '.',\n",
       " 'articl',\n",
       " '2',\n",
       " 'everyon',\n",
       " 'is',\n",
       " 'entitl',\n",
       " 'to',\n",
       " 'all',\n",
       " 'the',\n",
       " 'right',\n",
       " 'and',\n",
       " 'freedom',\n",
       " 'set',\n",
       " 'forth',\n",
       " 'in',\n",
       " 'thi',\n",
       " 'declar',\n",
       " ',',\n",
       " 'without',\n",
       " 'distinct',\n",
       " 'of',\n",
       " 'ani',\n",
       " 'kind',\n",
       " ',',\n",
       " 'such',\n",
       " 'as',\n",
       " 'race',\n",
       " ',',\n",
       " 'colour',\n",
       " ',',\n",
       " 'sex',\n",
       " ',',\n",
       " 'languag',\n",
       " ',',\n",
       " 'religion',\n",
       " ',',\n",
       " 'polit',\n",
       " 'or',\n",
       " 'other',\n",
       " 'opinion',\n",
       " ',',\n",
       " 'nation',\n",
       " 'or',\n",
       " 'social',\n",
       " 'origin',\n",
       " ',',\n",
       " 'properti',\n",
       " ',',\n",
       " 'birth',\n",
       " 'or',\n",
       " 'other',\n",
       " 'statu',\n",
       " '.',\n",
       " 'furthermor',\n",
       " ',',\n",
       " 'no',\n",
       " 'distinct',\n",
       " 'shall',\n",
       " 'be',\n",
       " 'made',\n",
       " 'on',\n",
       " 'the',\n",
       " 'basi',\n",
       " 'of',\n",
       " 'the',\n",
       " 'polit',\n",
       " ',',\n",
       " 'jurisdict',\n",
       " 'or',\n",
       " 'intern',\n",
       " 'statu',\n",
       " 'of',\n",
       " 'the',\n",
       " 'countri',\n",
       " 'or',\n",
       " 'territori',\n",
       " 'to',\n",
       " 'which',\n",
       " 'a',\n",
       " 'person',\n",
       " 'belong',\n",
       " ',',\n",
       " 'whether',\n",
       " 'it',\n",
       " 'be',\n",
       " 'independ',\n",
       " ',',\n",
       " 'trust',\n",
       " ',',\n",
       " 'non',\n",
       " '-',\n",
       " 'self',\n",
       " '-',\n",
       " 'govern',\n",
       " 'or',\n",
       " 'under',\n",
       " 'ani',\n",
       " 'other',\n",
       " 'limit',\n",
       " 'of',\n",
       " 'sovereignti',\n",
       " '.',\n",
       " 'articl',\n",
       " '3',\n",
       " 'everyon',\n",
       " 'ha',\n",
       " 'the',\n",
       " 'right',\n",
       " 'to',\n",
       " 'life',\n",
       " ',',\n",
       " 'liberti',\n",
       " 'and',\n",
       " 'secur',\n",
       " 'of',\n",
       " 'person',\n",
       " '.',\n",
       " 'articl',\n",
       " '4',\n",
       " 'No',\n",
       " 'one',\n",
       " 'shall',\n",
       " 'be',\n",
       " 'held',\n",
       " 'in',\n",
       " 'slaveri',\n",
       " 'or',\n",
       " 'servitud',\n",
       " ';',\n",
       " 'slaveri',\n",
       " 'and',\n",
       " 'the',\n",
       " 'slave',\n",
       " 'trade',\n",
       " 'shall',\n",
       " 'be',\n",
       " 'prohibit',\n",
       " 'in',\n",
       " 'all',\n",
       " 'their',\n",
       " 'form',\n",
       " '.',\n",
       " 'articl',\n",
       " '5',\n",
       " 'No',\n",
       " 'one',\n",
       " 'shall',\n",
       " 'be',\n",
       " 'subject',\n",
       " 'to',\n",
       " 'tortur',\n",
       " 'or',\n",
       " 'to',\n",
       " 'cruel',\n",
       " ',',\n",
       " 'inhuman',\n",
       " 'or',\n",
       " 'degrad',\n",
       " 'treatment',\n",
       " 'or',\n",
       " 'punish',\n",
       " '.',\n",
       " 'articl',\n",
       " '6',\n",
       " 'everyon',\n",
       " 'ha',\n",
       " 'the',\n",
       " 'right',\n",
       " 'to',\n",
       " 'recognit',\n",
       " 'everywher',\n",
       " 'as',\n",
       " 'a',\n",
       " 'person',\n",
       " 'befor',\n",
       " 'the',\n",
       " 'law',\n",
       " '.',\n",
       " 'articl',\n",
       " '7',\n",
       " 'all',\n",
       " 'are',\n",
       " 'equal',\n",
       " 'befor',\n",
       " 'the',\n",
       " 'law',\n",
       " 'and',\n",
       " 'are',\n",
       " 'entitl',\n",
       " 'without',\n",
       " 'ani',\n",
       " 'discrimin',\n",
       " 'to',\n",
       " 'equal',\n",
       " 'protect',\n",
       " 'of',\n",
       " 'the',\n",
       " 'law',\n",
       " '.',\n",
       " 'all',\n",
       " 'are',\n",
       " 'entitl',\n",
       " 'to',\n",
       " 'equal',\n",
       " 'protect',\n",
       " 'against',\n",
       " 'ani',\n",
       " 'discrimin',\n",
       " 'in',\n",
       " 'violat',\n",
       " 'of',\n",
       " 'thi',\n",
       " 'declar',\n",
       " 'and',\n",
       " 'against',\n",
       " 'ani',\n",
       " 'incit',\n",
       " 'to',\n",
       " 'such',\n",
       " 'discrimin',\n",
       " '.',\n",
       " 'articl',\n",
       " '8',\n",
       " 'everyon',\n",
       " 'ha',\n",
       " 'the',\n",
       " 'right',\n",
       " 'to',\n",
       " 'an',\n",
       " 'effect',\n",
       " 'remedi',\n",
       " 'by',\n",
       " 'the',\n",
       " 'compet',\n",
       " 'nation',\n",
       " 'tribun',\n",
       " 'for',\n",
       " 'act',\n",
       " 'violat',\n",
       " 'the',\n",
       " 'fundament',\n",
       " 'right',\n",
       " 'grant',\n",
       " 'him',\n",
       " 'by',\n",
       " 'the',\n",
       " 'constitut',\n",
       " 'or',\n",
       " 'by',\n",
       " 'law',\n",
       " '.',\n",
       " 'articl',\n",
       " '9',\n",
       " 'No',\n",
       " 'one',\n",
       " 'shall',\n",
       " 'be',\n",
       " 'subject',\n",
       " 'to',\n",
       " 'arbitrari',\n",
       " 'arrest',\n",
       " ',',\n",
       " 'detent',\n",
       " 'or',\n",
       " 'exil',\n",
       " '.',\n",
       " 'articl',\n",
       " '10',\n",
       " 'everyon',\n",
       " 'is',\n",
       " 'entitl',\n",
       " 'in',\n",
       " 'full',\n",
       " 'equal',\n",
       " 'to',\n",
       " 'a',\n",
       " 'fair',\n",
       " 'and',\n",
       " 'public',\n",
       " 'hear',\n",
       " 'by',\n",
       " 'an',\n",
       " 'independ',\n",
       " 'and',\n",
       " 'imparti',\n",
       " 'tribun',\n",
       " ',',\n",
       " 'in',\n",
       " 'the',\n",
       " 'determin',\n",
       " 'of',\n",
       " 'hi',\n",
       " 'right',\n",
       " 'and',\n",
       " 'oblig',\n",
       " 'and',\n",
       " 'of',\n",
       " 'ani',\n",
       " 'crimin',\n",
       " 'charg',\n",
       " 'against',\n",
       " 'him',\n",
       " '.',\n",
       " 'articl',\n",
       " '11',\n",
       " 'everyon',\n",
       " 'charg',\n",
       " 'with',\n",
       " 'a',\n",
       " 'penal',\n",
       " 'offenc',\n",
       " 'ha',\n",
       " 'the',\n",
       " 'right',\n",
       " 'to',\n",
       " 'be',\n",
       " 'presum',\n",
       " 'innoc',\n",
       " 'until',\n",
       " 'prove',\n",
       " 'guilti',\n",
       " 'accord',\n",
       " 'to',\n",
       " 'law',\n",
       " 'in',\n",
       " 'a',\n",
       " 'public',\n",
       " 'trial',\n",
       " 'at',\n",
       " 'which',\n",
       " 'he',\n",
       " 'ha',\n",
       " 'had',\n",
       " 'all',\n",
       " 'the',\n",
       " 'guarante',\n",
       " 'necessari',\n",
       " 'for',\n",
       " 'hi',\n",
       " 'defenc',\n",
       " '.',\n",
       " 'No',\n",
       " 'one',\n",
       " 'shall',\n",
       " 'be',\n",
       " 'held',\n",
       " 'guilti',\n",
       " 'of',\n",
       " 'ani',\n",
       " 'penal',\n",
       " 'offenc',\n",
       " 'on',\n",
       " 'account',\n",
       " 'of',\n",
       " 'ani',\n",
       " 'act',\n",
       " 'or',\n",
       " 'omiss',\n",
       " 'which',\n",
       " 'did',\n",
       " 'not',\n",
       " 'constitut',\n",
       " 'a',\n",
       " 'penal',\n",
       " 'offenc',\n",
       " ',',\n",
       " 'under',\n",
       " 'nation',\n",
       " 'or',\n",
       " 'intern',\n",
       " 'law',\n",
       " ',',\n",
       " 'at',\n",
       " 'the',\n",
       " 'time',\n",
       " 'when',\n",
       " 'it',\n",
       " 'wa',\n",
       " 'commit',\n",
       " '.',\n",
       " 'nor',\n",
       " 'shall',\n",
       " 'a',\n",
       " 'heavier',\n",
       " 'penalti',\n",
       " 'be',\n",
       " 'impos',\n",
       " 'than',\n",
       " 'the',\n",
       " 'one',\n",
       " 'that',\n",
       " 'wa',\n",
       " 'applic',\n",
       " 'at',\n",
       " 'the',\n",
       " 'time',\n",
       " 'the',\n",
       " 'penal',\n",
       " 'offenc',\n",
       " 'wa',\n",
       " 'commit',\n",
       " '.',\n",
       " 'articl',\n",
       " '12',\n",
       " 'No',\n",
       " 'one',\n",
       " 'shall',\n",
       " 'be',\n",
       " 'subject',\n",
       " 'to',\n",
       " 'arbitrari',\n",
       " 'interfer',\n",
       " 'with',\n",
       " 'hi',\n",
       " 'privaci',\n",
       " ',',\n",
       " 'famili',\n",
       " ',',\n",
       " 'home',\n",
       " 'or',\n",
       " 'correspond',\n",
       " ',',\n",
       " 'nor',\n",
       " 'to',\n",
       " 'attack',\n",
       " 'upon',\n",
       " 'hi',\n",
       " 'honour',\n",
       " 'and',\n",
       " 'reput',\n",
       " '.',\n",
       " 'everyon',\n",
       " 'ha',\n",
       " 'the',\n",
       " 'right',\n",
       " 'to',\n",
       " 'the',\n",
       " 'protect',\n",
       " 'of',\n",
       " 'the',\n",
       " 'law',\n",
       " 'against',\n",
       " 'such',\n",
       " 'interfer',\n",
       " 'or',\n",
       " 'attack',\n",
       " '.',\n",
       " 'articl',\n",
       " '13',\n",
       " 'everyon',\n",
       " 'ha',\n",
       " 'the',\n",
       " 'right',\n",
       " 'to',\n",
       " 'freedom',\n",
       " 'of',\n",
       " 'movement',\n",
       " 'and',\n",
       " 'resid',\n",
       " 'within',\n",
       " 'the',\n",
       " 'border',\n",
       " 'of',\n",
       " 'each',\n",
       " 'state',\n",
       " '.',\n",
       " 'everyon',\n",
       " 'ha',\n",
       " 'the',\n",
       " 'right',\n",
       " 'to',\n",
       " 'leav',\n",
       " 'ani',\n",
       " 'countri',\n",
       " ',',\n",
       " 'includ',\n",
       " 'hi',\n",
       " 'own',\n",
       " ',',\n",
       " 'and',\n",
       " 'to',\n",
       " 'return',\n",
       " 'to',\n",
       " 'hi',\n",
       " 'countri',\n",
       " '.',\n",
       " 'articl',\n",
       " '14',\n",
       " 'everyon',\n",
       " 'ha',\n",
       " 'the',\n",
       " 'right',\n",
       " 'to',\n",
       " 'seek',\n",
       " 'and',\n",
       " 'to',\n",
       " 'enjoy',\n",
       " 'in',\n",
       " 'other',\n",
       " 'countri',\n",
       " 'asylum',\n",
       " 'from',\n",
       " 'persecut',\n",
       " '.',\n",
       " 'thi',\n",
       " 'right',\n",
       " 'may',\n",
       " 'not',\n",
       " 'be',\n",
       " 'invok',\n",
       " 'in',\n",
       " 'the',\n",
       " 'case',\n",
       " 'of',\n",
       " 'prosecut',\n",
       " 'genuin',\n",
       " 'aris',\n",
       " 'from',\n",
       " 'non',\n",
       " '-',\n",
       " 'polit',\n",
       " 'crime',\n",
       " 'or',\n",
       " 'from',\n",
       " 'act',\n",
       " 'contrari',\n",
       " 'to',\n",
       " 'the',\n",
       " 'purpos',\n",
       " 'and',\n",
       " 'principl',\n",
       " 'of',\n",
       " 'the',\n",
       " 'unit',\n",
       " 'nation',\n",
       " '.',\n",
       " 'articl',\n",
       " '15',\n",
       " 'everyon',\n",
       " 'ha',\n",
       " 'the',\n",
       " 'right',\n",
       " 'to',\n",
       " 'a',\n",
       " 'nation',\n",
       " '.',\n",
       " 'No',\n",
       " 'one',\n",
       " 'shall',\n",
       " 'be',\n",
       " 'arbitrarili',\n",
       " 'depriv',\n",
       " 'of',\n",
       " 'hi',\n",
       " 'nation',\n",
       " 'nor',\n",
       " 'deni',\n",
       " 'the',\n",
       " 'right',\n",
       " 'to',\n",
       " 'chang',\n",
       " 'hi',\n",
       " 'nation',\n",
       " '.',\n",
       " 'articl',\n",
       " '16',\n",
       " 'men',\n",
       " 'and',\n",
       " 'women',\n",
       " 'of',\n",
       " 'full',\n",
       " 'age',\n",
       " ',',\n",
       " 'without',\n",
       " 'ani',\n",
       " 'limit',\n",
       " 'due',\n",
       " 'to',\n",
       " 'race',\n",
       " ',',\n",
       " 'nation',\n",
       " 'or',\n",
       " 'religion',\n",
       " ',',\n",
       " 'have',\n",
       " 'the',\n",
       " 'right',\n",
       " 'to',\n",
       " 'marri',\n",
       " 'and',\n",
       " 'to',\n",
       " 'found',\n",
       " 'a',\n",
       " 'famili',\n",
       " '.',\n",
       " 'they',\n",
       " 'are',\n",
       " 'entitl',\n",
       " 'to',\n",
       " 'equal',\n",
       " 'right',\n",
       " 'as',\n",
       " 'to',\n",
       " 'marriag',\n",
       " ',',\n",
       " 'dure',\n",
       " 'marriag',\n",
       " 'and',\n",
       " 'at',\n",
       " 'it',\n",
       " 'dissolut',\n",
       " '.',\n",
       " 'marriag',\n",
       " 'shall',\n",
       " 'be',\n",
       " ...]"
      ]
     },
     "execution_count": 20,
     "metadata": {},
     "output_type": "execute_result"
    }
   ],
   "source": [
    "[porter.stem(t) for t in udhr]"
   ]
  },
  {
   "cell_type": "code",
   "execution_count": 21,
   "metadata": {},
   "outputs": [
    {
     "data": {
      "text/plain": [
       "['Universal',\n",
       " 'Declaration',\n",
       " 'of',\n",
       " 'Human',\n",
       " 'Rights',\n",
       " 'Preamble',\n",
       " 'Whereas',\n",
       " 'recognition',\n",
       " 'of',\n",
       " 'the',\n",
       " 'inherent',\n",
       " 'dignity',\n",
       " 'and',\n",
       " 'of',\n",
       " 'the',\n",
       " 'equal',\n",
       " 'and',\n",
       " 'inalienable',\n",
       " 'right',\n",
       " 'of']"
      ]
     },
     "execution_count": 21,
     "metadata": {},
     "output_type": "execute_result"
    }
   ],
   "source": [
    "# Using Lemmatization results in valid words\n",
    "WNlemma=nltk.WordNetLemmatizer()\n",
    "[WNlemma.lemmatize(t) for t in udhr[:20]]\n",
    "\n",
    "# In this, upper and lower case words are considered to be different and did not lemmarize"
   ]
  },
  {
   "cell_type": "markdown",
   "metadata": {},
   "source": [
    "### Tokenization"
   ]
  },
  {
   "cell_type": "code",
   "execution_count": 23,
   "metadata": {},
   "outputs": [],
   "source": [
    "# Splitting a sentence into words/tokens\n",
    "text11=\"Children shouldn't drink a sugary drink before bed.\""
   ]
  },
  {
   "cell_type": "code",
   "execution_count": 24,
   "metadata": {},
   "outputs": [
    {
     "data": {
      "text/plain": [
       "['Children', \"shouldn't\", 'drink', 'a', 'sugary', 'drink', 'before', 'bed.']"
      ]
     },
     "execution_count": 24,
     "metadata": {},
     "output_type": "execute_result"
    }
   ],
   "source": [
    "text11.split(' ')"
   ]
  },
  {
   "cell_type": "code",
   "execution_count": 26,
   "metadata": {},
   "outputs": [
    {
     "data": {
      "text/plain": [
       "['Children',\n",
       " 'should',\n",
       " \"n't\",\n",
       " 'drink',\n",
       " 'a',\n",
       " 'sugary',\n",
       " 'drink',\n",
       " 'before',\n",
       " 'bed',\n",
       " '.']"
      ]
     },
     "execution_count": 26,
     "metadata": {},
     "output_type": "execute_result"
    }
   ],
   "source": [
    "## NLTK tokenizer\n",
    "nltk.word_tokenize(text11)"
   ]
  },
  {
   "cell_type": "code",
   "execution_count": 32,
   "metadata": {},
   "outputs": [],
   "source": [
    "# Sentence Splitting from a long string\n",
    "\n",
    "text12=\"This is the first sentence. A gallon of milk in the U.S. costs $2.99. Is this the third sentence? Yes, it is! \""
   ]
  },
  {
   "cell_type": "code",
   "execution_count": 33,
   "metadata": {},
   "outputs": [
    {
     "data": {
      "text/plain": [
       "4"
      ]
     },
     "execution_count": 33,
     "metadata": {},
     "output_type": "execute_result"
    }
   ],
   "source": [
    "sentences=nltk.sent_tokenize(text12)\n",
    "len(sentences)"
   ]
  },
  {
   "cell_type": "code",
   "execution_count": 34,
   "metadata": {},
   "outputs": [
    {
     "data": {
      "text/plain": [
       "['This is the first sentence.',\n",
       " 'A gallon of milk in the U.S. costs $2.99.',\n",
       " 'Is this the third sentence?',\n",
       " 'Yes, it is!']"
      ]
     },
     "execution_count": 34,
     "metadata": {},
     "output_type": "execute_result"
    }
   ],
   "source": [
    "sentences"
   ]
  },
  {
   "cell_type": "markdown",
   "metadata": {},
   "source": [
    "## Advanced NLP Tasks using NLTK "
   ]
  },
  {
   "cell_type": "code",
   "execution_count": 35,
   "metadata": {},
   "outputs": [
    {
     "name": "stdout",
     "output_type": "stream",
     "text": [
      "MD: modal auxiliary\n",
      "    can cannot could couldn't dare may might must need ought shall should\n",
      "    shouldn't will would\n"
     ]
    }
   ],
   "source": [
    "# Part of speech (POS) tagging \n",
    "\n",
    "# To get information about the word classes\n",
    "\n",
    "nltk.help.upenn_tagset('MD')"
   ]
  },
  {
   "cell_type": "code",
   "execution_count": 37,
   "metadata": {},
   "outputs": [
    {
     "data": {
      "text/plain": [
       "['Children',\n",
       " 'should',\n",
       " \"n't\",\n",
       " 'drink',\n",
       " 'a',\n",
       " 'sugary',\n",
       " 'drink',\n",
       " 'before',\n",
       " 'bed',\n",
       " '.']"
      ]
     },
     "execution_count": 37,
     "metadata": {},
     "output_type": "execute_result"
    }
   ],
   "source": [
    "text11=\"Children shouldn't drink a sugary drink before bed.\"\n",
    "text13=nltk.word_tokenize(text11)\n",
    "text13"
   ]
  },
  {
   "cell_type": "code",
   "execution_count": 38,
   "metadata": {},
   "outputs": [
    {
     "data": {
      "text/plain": [
       "[('Children', 'NNP'),\n",
       " ('should', 'MD'),\n",
       " (\"n't\", 'RB'),\n",
       " ('drink', 'VB'),\n",
       " ('a', 'DT'),\n",
       " ('sugary', 'JJ'),\n",
       " ('drink', 'NN'),\n",
       " ('before', 'IN'),\n",
       " ('bed', 'NN'),\n",
       " ('.', '.')]"
      ]
     },
     "execution_count": 38,
     "metadata": {},
     "output_type": "execute_result"
    }
   ],
   "source": [
    "# Running POS tagger\n",
    "nltk.pos_tag(text13)\n",
    "\n",
    "\n",
    "# NNP - Plural noun, MD- Model word, RB -> end word, VB -> Verb, DT-> determiner, JJ-> adjective, VBG-> Gerund\n",
    "# This could be used for feature engineering"
   ]
  },
  {
   "cell_type": "code",
   "execution_count": 39,
   "metadata": {},
   "outputs": [
    {
     "data": {
      "text/plain": [
       "[('Visting', 'VBG'),\n",
       " ('aunts', 'NNS'),\n",
       " ('can', 'MD'),\n",
       " ('be', 'VB'),\n",
       " ('nuisance', 'JJ')]"
      ]
     },
     "execution_count": 39,
     "metadata": {},
     "output_type": "execute_result"
    }
   ],
   "source": [
    "# Ambiquity in POS tagging -> Visiting could be a gerund or verb . nltk displays the most used one in the corpus\n",
    "text14= nltk.word_tokenize(\"Visting aunts can be nuisance\")\n",
    "nltk.pos_tag(text14)"
   ]
  },
  {
   "cell_type": "code",
   "execution_count": 40,
   "metadata": {},
   "outputs": [
    {
     "data": {
      "text/plain": [
       "['Alice', 'loves', 'Bob']"
      ]
     },
     "execution_count": 40,
     "metadata": {},
     "output_type": "execute_result"
    }
   ],
   "source": [
    "# Parsing sentence structure\n",
    "text15=nltk.word_tokenize(\"Alice loves Bob\")\n",
    "text15"
   ]
  },
  {
   "cell_type": "code",
   "execution_count": 43,
   "metadata": {},
   "outputs": [],
   "source": [
    "grammar = nltk.CFG.fromstring(\"\"\"\n",
    "S -> NP VP\n",
    "VP -> V NP\n",
    "NP -> 'Alice' | 'Bob'\n",
    "V -> 'loves'\n",
    "\"\"\")"
   ]
  },
  {
   "cell_type": "code",
   "execution_count": 44,
   "metadata": {},
   "outputs": [
    {
     "data": {
      "text/plain": [
       "<Grammar with 5 productions>"
      ]
     },
     "execution_count": 44,
     "metadata": {},
     "output_type": "execute_result"
    }
   ],
   "source": [
    "grammar"
   ]
  },
  {
   "cell_type": "code",
   "execution_count": 47,
   "metadata": {},
   "outputs": [
    {
     "name": "stdout",
     "output_type": "stream",
     "text": [
      "(S (NP Alice) (VP (V loves) (NP Bob)))\n"
     ]
    }
   ],
   "source": [
    "parser=nltk.ChartParser(grammar)\n",
    "trees=parser.parse_all(text15)\n",
    "for tree in trees:\n",
    "    print (tree)"
   ]
  },
  {
   "cell_type": "code",
   "execution_count": 49,
   "metadata": {},
   "outputs": [],
   "source": [
    "# Parsing could be ambiguous for this sentence\n",
    "text16 = nltk.word_tokenize(\"I saw the man with a telescope\")\n",
    "grammar1 = nltk.data.load('mygrammar.cfg')\n",
    "grammar1\n",
    "\n",
    "# .cfg could be the file for grammar"
   ]
  },
  {
   "cell_type": "code",
   "execution_count": null,
   "metadata": {},
   "outputs": [],
   "source": [
    "# parser=nltk.ChartParser(grammar1)\n",
    "trees=parser.parse_all(text16)\n",
    "for tree in trees:\n",
    "    print(tree)"
   ]
  },
  {
   "cell_type": "code",
   "execution_count": 52,
   "metadata": {},
   "outputs": [],
   "source": [
    "from nltk.corpus import treebank\n",
    "#text17=treebank.parsed_sents('wsj_001.mrg')[0]"
   ]
  },
  {
   "cell_type": "markdown",
   "metadata": {},
   "source": [
    "### POS tagging and parsing complexity"
   ]
  },
  {
   "cell_type": "code",
   "execution_count": 54,
   "metadata": {},
   "outputs": [
    {
     "data": {
      "text/plain": [
       "[('The', 'DT'), ('old', 'JJ'), ('man', 'NN'), ('the', 'DT'), ('boat', 'NN')]"
      ]
     },
     "execution_count": 54,
     "metadata": {},
     "output_type": "execute_result"
    }
   ],
   "source": [
    "\n",
    "text18=nltk.word_tokenize(\"The old man the boat\")\n",
    "nltk.pos_tag(text18)"
   ]
  },
  {
   "cell_type": "code",
   "execution_count": 55,
   "metadata": {},
   "outputs": [
    {
     "data": {
      "text/plain": [
       "[('Colorless', 'NNP'),\n",
       " ('green', 'JJ'),\n",
       " ('ideas', 'NNS'),\n",
       " ('sleep', 'VBP'),\n",
       " ('furiously', 'RB')]"
      ]
     },
     "execution_count": 55,
     "metadata": {},
     "output_type": "execute_result"
    }
   ],
   "source": [
    "text19=nltk.word_tokenize('Colorless green ideas sleep furiously')\n",
    "nltk.pos_tag(text19)"
   ]
  },
  {
   "cell_type": "code",
   "execution_count": null,
   "metadata": {},
   "outputs": [],
   "source": []
  }
 ],
 "metadata": {
  "kernelspec": {
   "display_name": "Python 3",
   "language": "python",
   "name": "python3"
  },
  "language_info": {
   "codemirror_mode": {
    "name": "ipython",
    "version": 3
   },
   "file_extension": ".py",
   "mimetype": "text/x-python",
   "name": "python",
   "nbconvert_exporter": "python",
   "pygments_lexer": "ipython3",
   "version": "3.7.1"
  }
 },
 "nbformat": 4,
 "nbformat_minor": 2
}
