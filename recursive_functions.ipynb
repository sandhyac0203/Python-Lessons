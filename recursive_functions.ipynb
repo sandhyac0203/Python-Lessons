{
  "nbformat": 4,
  "nbformat_minor": 0,
  "metadata": {
    "colab": {
      "provenance": [],
      "toc_visible": true
    },
    "kernelspec": {
      "name": "python3",
      "display_name": "Python 3"
    },
    "language_info": {
      "name": "python"
    }
  },
  "cells": [
    {
      "cell_type": "markdown",
      "metadata": {
        "id": "cnAUJprJdh9_"
      },
      "source": [
        "# Welcome to our last Lab Practice!"
      ]
    },
    {
      "cell_type": "markdown",
      "metadata": {
        "id": "vVYcayGedmms"
      },
      "source": [
        "This lab is all about defining nested functions. Are you ready? Let's get started!"
      ]
    },
    {
      "cell_type": "markdown",
      "metadata": {
        "id": "JP8eGBVyeSQx"
      },
      "source": [
        "You will find some small tasks in sections below. After defining functions, call them to test."
      ]
    },
    {
      "cell_type": "markdown",
      "source": [
        "## Define recursive functions"
      ],
      "metadata": {
        "id": "qzuHvz8d6ICV"
      }
    },
    {
      "cell_type": "markdown",
      "source": [
        "###Task: define a recursive function to compute fibonacci series: $fib(0) = 0$, $fib(1) = 1$, $fib(n) = fib(n-1) + fib(n-2)$"
      ],
      "metadata": {
        "id": "h-mrQgK7RKqm"
      }
    },
    {
      "cell_type": "code",
      "source": [
        "def fib(n):\n",
        "  if n==0 or n==1:\n",
        "    return n\n",
        "  else:\n",
        "    return fib(n-1)+fib(n-2)\n"
      ],
      "metadata": {
        "id": "FR7idsVORX5_"
      },
      "execution_count": 6,
      "outputs": []
    },
    {
      "cell_type": "code",
      "source": [
        "fib(6)"
      ],
      "metadata": {
        "colab": {
          "base_uri": "https://localhost:8080/"
        },
        "id": "bRwPnnNK7_ht",
        "outputId": "3f345aa8-9081-4a58-d8aa-d5bb941603c2"
      },
      "execution_count": 10,
      "outputs": [
        {
          "output_type": "execute_result",
          "data": {
            "text/plain": [
              "8"
            ]
          },
          "metadata": {},
          "execution_count": 10
        }
      ]
    },
    {
      "cell_type": "markdown",
      "source": [
        "###Task: define a recursive function to compute the number of digits of a positive integer."
      ],
      "metadata": {
        "id": "DgJSW0_BBy1i"
      }
    },
    {
      "cell_type": "code",
      "source": [
        "def pos_dig(n):\n",
        "  if n < 10:\n",
        "    return 1\n",
        "  else:\n",
        "    return 1+pos_dig(n//10)\n",
        "\n"
      ],
      "metadata": {
        "id": "Pw6KMzh9CGQb"
      },
      "execution_count": 11,
      "outputs": []
    },
    {
      "cell_type": "code",
      "source": [
        "pos_dig(2023)"
      ],
      "metadata": {
        "colab": {
          "base_uri": "https://localhost:8080/"
        },
        "id": "nOZXio-uBifP",
        "outputId": "cb0c3a8e-2f11-49df-f5d2-314d513d3363"
      },
      "execution_count": 12,
      "outputs": [
        {
          "output_type": "execute_result",
          "data": {
            "text/plain": [
              "4"
            ]
          },
          "metadata": {},
          "execution_count": 12
        }
      ]
    },
    {
      "cell_type": "markdown",
      "source": [
        "### Task: define a function to check whether or not a string without special characters is palindrome.\n",
        "\n",
        "Definition: Palindrome is a word, phrase, or sequence that reads the same backward as forward.\n",
        "\n",
        "For example:\n",
        "*   '', 'a', 'ada', 'adda' are palindrome;\n",
        "*   'ab', 'abs' are not palindrome.\n",
        "\n",
        "We can assume the input string contains only A to Z and a to z, no other special characters, it might be empty, and an empty string is palindrome.\n",
        "\n",
        "Hint: The first character of the string *s* can be accessed by *s[0]* and the last character of the string *s* can be accessed by *s[-1]*.\n",
        "The substring without the first and last character of a string *s* can be obtained by *s[1:-1]*"
      ],
      "metadata": {
        "id": "0V2xXl_WuE_C"
      }
    },
    {
      "cell_type": "code",
      "source": [
        "def palin(s):\n",
        "  if len(s)==0 or len(s)==1:\n",
        "    return True\n",
        "  else:\n",
        "    if s[0]==s[-1]:\n",
        "      return palin(s[1:-1])\n",
        "    else:\n",
        "      return False"
      ],
      "metadata": {
        "id": "IWog-rcNwl47"
      },
      "execution_count": 21,
      "outputs": []
    },
    {
      "cell_type": "code",
      "source": [
        "palin('adda')"
      ],
      "metadata": {
        "colab": {
          "base_uri": "https://localhost:8080/"
        },
        "id": "NLSWr9mlEBFD",
        "outputId": "e9d43248-dfa4-4183-b9b3-84216e2c98b0"
      },
      "execution_count": 22,
      "outputs": [
        {
          "output_type": "execute_result",
          "data": {
            "text/plain": [
              "True"
            ]
          },
          "metadata": {},
          "execution_count": 22
        }
      ]
    },
    {
      "cell_type": "code",
      "source": [],
      "metadata": {
        "id": "U6UbT9_3EXu5"
      },
      "execution_count": null,
      "outputs": []
    }
  ]
}