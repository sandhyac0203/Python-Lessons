{
  "nbformat": 4,
  "nbformat_minor": 0,
  "metadata": {
    "colab": {
      "provenance": [],
      "toc_visible": true
    },
    "kernelspec": {
      "name": "python3",
      "display_name": "Python 3"
    },
    "language_info": {
      "name": "python"
    }
  },
  "cells": [
    {
      "cell_type": "markdown",
      "metadata": {
        "id": "cnAUJprJdh9_"
      },
      "source": [
        "# Welcome to our Lab Practice!"
      ]
    },
    {
      "cell_type": "markdown",
      "metadata": {
        "id": "vVYcayGedmms"
      },
      "source": [
        "This lab is all about defining functions with multiple parameters. Are you ready? Let's go!"
      ]
    },
    {
      "cell_type": "markdown",
      "metadata": {
        "id": "JP8eGBVyeSQx"
      },
      "source": [
        "You will find some small tasks in sections below. After defining functions, call them to test."
      ]
    },
    {
      "cell_type": "markdown",
      "source": [
        "###Task: define a function that print \"*message*\" *n* times, where *message* and *n* are parameters"
      ],
      "metadata": {
        "id": "MBpHkOhIfmrY"
      }
    },
    {
      "cell_type": "code",
      "source": [
        "def print_message(message,n):\n",
        "  for i in range(n):\n",
        "    print(message)\n"
      ],
      "metadata": {
        "id": "Orw6NIIef0Wp"
      },
      "execution_count": 21,
      "outputs": []
    },
    {
      "cell_type": "code",
      "source": [
        "print_message('hi',3)"
      ],
      "metadata": {
        "colab": {
          "base_uri": "https://localhost:8080/"
        },
        "id": "hMTNO3-hejtv",
        "outputId": "802bac2f-72ce-4e11-b88f-af00b629899b"
      },
      "execution_count": 22,
      "outputs": [
        {
          "output_type": "stream",
          "name": "stdout",
          "text": [
            "hi\n",
            "hi\n",
            "hi\n"
          ]
        }
      ]
    },
    {
      "cell_type": "markdown",
      "source": [
        "###Task: define a function that print integers *n*  to *m* (hint: you can use a for loop), where *n* and *m* are parameters, and *n < m*.\n",
        "\n",
        "Challenge: Can you write a program that doesn't require *n < m*?"
      ],
      "metadata": {
        "id": "DVjL6nU0f2Z_"
      }
    },
    {
      "cell_type": "code",
      "source": [
        "def print_integers(n,m):\n",
        "  for i in range(n,m+1):\n",
        "    print (i)\n"
      ],
      "metadata": {
        "id": "2iYaPzVSghML"
      },
      "execution_count": 27,
      "outputs": []
    },
    {
      "cell_type": "code",
      "source": [
        "print_integers(1,5)"
      ],
      "metadata": {
        "colab": {
          "base_uri": "https://localhost:8080/"
        },
        "id": "fOffYk0lhI0Y",
        "outputId": "3e6b37cd-483c-4783-bb02-811533e1b885"
      },
      "execution_count": 28,
      "outputs": [
        {
          "output_type": "stream",
          "name": "stdout",
          "text": [
            "1\n",
            "2\n",
            "3\n",
            "4\n",
            "5\n"
          ]
        }
      ]
    },
    {
      "cell_type": "markdown",
      "source": [
        "###Task: define a function that print the sum of *n*  to *m*, where *n, m* are parameters, and *n* < *m*."
      ],
      "metadata": {
        "id": "YhJrQh4eghzb"
      }
    },
    {
      "cell_type": "code",
      "source": [
        "def print_numbers(n,m):\n",
        "  for i in range (n,m+1):\n",
        "    sum=0\n",
        "    sum +=i\n",
        "  print(sum)\n",
        "\n"
      ],
      "metadata": {
        "id": "n2Mm6RVYgwOq"
      },
      "execution_count": 60,
      "outputs": []
    },
    {
      "cell_type": "code",
      "source": [
        "print_numbers(1,5)"
      ],
      "metadata": {
        "colab": {
          "base_uri": "https://localhost:8080/"
        },
        "id": "k2_7Zkxkinvr",
        "outputId": "2a4c3c95-7979-43cf-be74-5a7e71033423"
      },
      "execution_count": 61,
      "outputs": [
        {
          "output_type": "stream",
          "name": "stdout",
          "text": [
            "5\n"
          ]
        }
      ]
    },
    {
      "cell_type": "markdown",
      "source": [
        "###Task: define a function that print the AND logical operation of *condition1* and *condition 2*, where *condition1, condition2* are parameters."
      ],
      "metadata": {
        "id": "LzU4n3lDgzMR"
      }
    },
    {
      "cell_type": "code",
      "source": [
        "def print_logic(cond1,cond2):\n",
        "  print(cond1 and cond2)"
      ],
      "metadata": {
        "id": "aoARtrf-hEJR"
      },
      "execution_count": 62,
      "outputs": []
    },
    {
      "cell_type": "code",
      "source": [
        "print_logic('hi','v')"
      ],
      "metadata": {
        "colab": {
          "base_uri": "https://localhost:8080/"
        },
        "id": "UvRCK7_0nota",
        "outputId": "2f853a21-95ad-4275-8ce4-c008fc526251"
      },
      "execution_count": 64,
      "outputs": [
        {
          "output_type": "stream",
          "name": "stdout",
          "text": [
            "v\n"
          ]
        }
      ]
    },
    {
      "cell_type": "code",
      "source": [
        "print_logic('v','hi')"
      ],
      "metadata": {
        "colab": {
          "base_uri": "https://localhost:8080/"
        },
        "id": "8FIHdzeyn6Ez",
        "outputId": "a07f6624-9334-4cec-f771-92e5a46f9067"
      },
      "execution_count": 65,
      "outputs": [
        {
          "output_type": "stream",
          "name": "stdout",
          "text": [
            "hi\n"
          ]
        }
      ]
    },
    {
      "cell_type": "markdown",
      "source": [
        "###Task: define a function that print if *n* is dividible by *m*, where *n, m* are parameters."
      ],
      "metadata": {
        "id": "WLCfkBtOhEfa"
      }
    },
    {
      "cell_type": "code",
      "source": [
        "def print_div(n,m):\n",
        "  if n%m==0:\n",
        "    print(n,\"is dividible by \", m)\n",
        "  else:\n",
        "    print(n,\"is not dividible by \", m)\n",
        "\n",
        "\n",
        "print_div(4,2)\n",
        "\n",
        "\n"
      ],
      "metadata": {
        "id": "h_aYoPmWhPRL",
        "colab": {
          "base_uri": "https://localhost:8080/"
        },
        "outputId": "bb8db137-5fda-4e1b-dfc4-57852a5ad1c4"
      },
      "execution_count": 67,
      "outputs": [
        {
          "output_type": "stream",
          "name": "stdout",
          "text": [
            "4 is dividible by  2\n"
          ]
        }
      ]
    },
    {
      "cell_type": "code",
      "source": [],
      "metadata": {
        "id": "8AxW_UFsoVCx"
      },
      "execution_count": null,
      "outputs": []
    },
    {
      "cell_type": "markdown",
      "source": [
        "###Task: define a function that print the minimal number from *x, y, z*, where *x, y, z* are parameters"
      ],
      "metadata": {
        "id": "RNil8H04hUDq"
      }
    },
    {
      "cell_type": "code",
      "source": [
        "def minimal_num(x,y,z):\n",
        "  min=x\n",
        "  if y<min:\n",
        "    min=y\n",
        "  if z<min:\n",
        "    min=z\n",
        "  print(min)"
      ],
      "metadata": {
        "id": "HaZfxaajhhn8"
      },
      "execution_count": 71,
      "outputs": []
    },
    {
      "cell_type": "code",
      "source": [
        "minimal_num(4,2,3)"
      ],
      "metadata": {
        "colab": {
          "base_uri": "https://localhost:8080/"
        },
        "id": "HGvjKiq0saRf",
        "outputId": "0f7dd6ee-4245-4278-af91-70abf2f405cb"
      },
      "execution_count": 72,
      "outputs": [
        {
          "output_type": "stream",
          "name": "stdout",
          "text": [
            "2\n"
          ]
        }
      ]
    },
    {
      "cell_type": "code",
      "source": [],
      "metadata": {
        "id": "Pv51rrUNseFT"
      },
      "execution_count": null,
      "outputs": []
    }
  ]
}