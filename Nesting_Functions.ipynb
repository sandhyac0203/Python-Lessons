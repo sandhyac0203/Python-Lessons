{
  "nbformat": 4,
  "nbformat_minor": 0,
  "metadata": {
    "colab": {
      "provenance": [],
      "toc_visible": true
    },
    "kernelspec": {
      "name": "python3",
      "display_name": "Python 3"
    },
    "language_info": {
      "name": "python"
    }
  },
  "cells": [
    {
      "cell_type": "markdown",
      "metadata": {
        "id": "cnAUJprJdh9_"
      },
      "source": [
        "# Welcome to our Lab Practice!"
      ]
    },
    {
      "cell_type": "markdown",
      "metadata": {
        "id": "vVYcayGedmms"
      },
      "source": [
        "This lab is all about defining nested functions. Are you ready? Let's get started!"
      ]
    },
    {
      "cell_type": "markdown",
      "metadata": {
        "id": "JP8eGBVyeSQx"
      },
      "source": [
        "You will find some small tasks in sections below. After defining functions, call them to test."
      ]
    },
    {
      "cell_type": "markdown",
      "metadata": {
        "id": "D8pWdoN7d6Dy"
      },
      "source": [
        "## Define nestted functions."
      ]
    },
    {
      "cell_type": "markdown",
      "source": [
        "###Task: Calculator\n",
        "\n",
        "1.   Define a function that ask the user to input a number\n",
        "2.   Define a function that computes the sum of two numbers\n",
        "3.   Define a function that computes the substraction of two numbers\n",
        "4.   Define a function that computes the product of two numbers\n",
        "5.   Define a function that computes the division of two numbers\n",
        "6.   Define a function that print the arithmetic operation result of two numbers by calling functions defined above\n",
        "\n",
        "\n"
      ],
      "metadata": {
        "id": "TTqVA_ew48Sn"
      }
    },
    {
      "cell_type": "code",
      "source": [
        "def input_no():\n",
        "  number=int(input(\"Input a number\",))\n",
        "  print (number)\n",
        "\n",
        "def sum_2_nos(x,y):\n",
        "  sum=x+y\n",
        "  return sum\n",
        "\n",
        "def sub_2_nos(x,y):\n",
        "  subtract=x-y\n",
        "  return subtract\n",
        "\n",
        "def prod_2_nos(x,y):\n",
        "  product=x*y\n",
        "  return product\n",
        "\n",
        "def div_2_nos(x,y):\n",
        "  div=x/y\n",
        "  return div\n",
        "\n",
        "def arith_ops_2_nos(x,y):\n",
        "  sum=sum_2_nos(x,y)\n",
        "  subtract=sub_2_nos(x,y)\n",
        "  product=prod_2_nos(x,y)\n",
        "  division=div_2_nos(x,y)\n",
        "  print(\"sum:\",sum,\"subtraction:\",subtract,\"product\",product,\"division\",division)"
      ],
      "metadata": {
        "id": "4l8oECs25O26"
      },
      "execution_count": 10,
      "outputs": []
    },
    {
      "cell_type": "code",
      "source": [
        "arith_ops_2_nos(2,3)\n"
      ],
      "metadata": {
        "colab": {
          "base_uri": "https://localhost:8080/"
        },
        "id": "E98NPy3dXWJk",
        "outputId": "468bf5b8-49e4-426c-90ad-b8a057b72855"
      },
      "execution_count": 11,
      "outputs": [
        {
          "output_type": "stream",
          "name": "stdout",
          "text": [
            "sum: 5 subtraction: -1 product 6 division 0.6666666666666666\n"
          ]
        }
      ]
    },
    {
      "cell_type": "markdown",
      "source": [
        "###Task: Statistics\n",
        "\n",
        "1.   Define a function that ask the user to input a number\n",
        "2.   Define a function that computes the min of three numbers\n",
        "3.   Define a function that computes the max of three numbers\n",
        "4.   Define a function that computes the total of three numbers\n",
        "5.   Define a function that computes the average of three numbers\n",
        "6.   Define a function that print the statistics of the three numbers by calling functions defineda bove"
      ],
      "metadata": {
        "id": "9hfJ0kha5G_A"
      }
    },
    {
      "cell_type": "code",
      "source": [
        "def user_input():\n",
        "  num=int(input(\"Input a number:\",))\n",
        "  print(num)\n",
        "\n",
        "def min_3(x,y,z):\n",
        "  min=x\n",
        "  if y<min:\n",
        "    min=y\n",
        "  if z<min:\n",
        "    min=z\n",
        "  return (min)\n",
        "\n",
        "def max_3(x,y,z):\n",
        "  max=x\n",
        "  if y>max:\n",
        "    max=y\n",
        "  if z>max:\n",
        "    max=z\n",
        "  return (max)\n",
        "\n",
        "def total_3(x,y,z):\n",
        "  total=x+y+z\n",
        "  return (total)\n",
        "\n",
        "def avg_3(x,y,z):\n",
        "  avg=(x+y+z)/3\n",
        "  return (avg)\n",
        "\n",
        "def print_stats(x,y,z):\n",
        "  min=min_3(x,y,z)\n",
        "  max=max_3(x,y,z)\n",
        "  total=total_3(x,y,z)\n",
        "  avg=avg_3(x,y,z)\n",
        "  print(\"min:\",min,\"max:\",max,\"total:\",total,\"avg:\",avg)\n",
        "\n",
        "print_stats(3,4,5)\n"
      ],
      "metadata": {
        "id": "qL379kld5PX0",
        "colab": {
          "base_uri": "https://localhost:8080/"
        },
        "outputId": "cbbd357f-5292-4432-c538-b664060bc47b"
      },
      "execution_count": 9,
      "outputs": [
        {
          "output_type": "stream",
          "name": "stdout",
          "text": [
            "min: 3 max: 5 total: 12 avg: 4.0\n"
          ]
        }
      ]
    },
    {
      "cell_type": "markdown",
      "metadata": {
        "id": "rXgbUIBRgQoG"
      },
      "source": [
        "###Task: Simple Calculator\n",
        "\n",
        "\n",
        "1.   Define a function that increment an integer x by 1, x is a parameter\n",
        "2.   Define a function that decrement an integer x by 1, x is a parameter\n",
        "3.   Define a function that computes *x* $+$ *y* by using functions defined above, where x and y are parameters and you cannot directly use x $+$ y in your definition.\n",
        "4.   Define a function that computes *x* $-$ *y* by using functions defined above, where x and y are parameters and you cannot directly use x $-$ y in your definition.\n",
        "5.   Define a function that computes *x* $\\times$ *y* by using functions defined above, where x and y are parameters and you cannot directly use x * y in your definition.\n",
        "6.   Define a function that computes *x* $**$ *y* by using functios defined above, where x and y are parameters and you cannot directly use *x* $**$ *y* in your definition\n",
        "7.   Define a function that takes two arguments, x and y, and print the addition (x $+$ y), substraction(x $-$ y), product(x $\\times$ y), and exponent(x**y) of these two arguments"
      ]
    },
    {
      "cell_type": "code",
      "metadata": {
        "id": "oIKwmW2mfe3d",
        "colab": {
          "base_uri": "https://localhost:8080/"
        },
        "outputId": "1743bb21-25a3-4392-8354-42472e7d2c80"
      },
      "source": [
        "def increment(x):\n",
        "  return x + 1\n",
        "\n",
        "def decrement(x):\n",
        "  return x - 1\n",
        "\n",
        "def plus(x, y):\n",
        "  for i in range(y):\n",
        "    x = increment(x)\n",
        "  return x\n",
        "\n",
        "def minus(x, y):\n",
        "  for i in range(y):\n",
        "    x = decrement(x)\n",
        "  return x\n",
        "\n",
        "def times(x, y):\n",
        "  result = 0\n",
        "  for i in range(y):\n",
        "    result = plus(result, x)\n",
        "  return result\n",
        "\n",
        "def power(x, y):\n",
        "  result = 1\n",
        "  for i in range(y):\n",
        "    result = times(result, x)\n",
        "  return result\n",
        "\n",
        "def arith(x, y):\n",
        "  print(x, '+', y, '=', plus(x, y))\n",
        "  print(x, '-', y, '=', minus(x, y))\n",
        "  print(x, '*', y, '=', times(x, y))\n",
        "  print(x, '**', y, '=', power(x, y))\n",
        "\n",
        "arith(3, 2)\n",
        ""
      ],
      "execution_count": 17,
      "outputs": [
        {
          "output_type": "stream",
          "name": "stdout",
          "text": [
            "3 + 2 = 5\n",
            "3 - 2 = 1\n",
            "3 * 2 = 6\n",
            "3 ** 2 = 9\n"
          ]
        }
      ]
    },
    {
      "cell_type": "code",
      "source": [],
      "metadata": {
        "id": "erjdbe9w4XPo"
      },
      "execution_count": 15,
      "outputs": []
    },
    {
      "cell_type": "code",
      "source": [
        "plus(1,2)"
      ],
      "metadata": {
        "colab": {
          "base_uri": "https://localhost:8080/"
        },
        "id": "w-2bFdvv5g3-",
        "outputId": "77fe7405-ee80-4572-fd70-1cb0b925e0b4"
      },
      "execution_count": 16,
      "outputs": [
        {
          "output_type": "execute_result",
          "data": {
            "text/plain": [
              "3"
            ]
          },
          "metadata": {},
          "execution_count": 16
        }
      ]
    },
    {
      "cell_type": "code",
      "source": [],
      "metadata": {
        "id": "Etra8ZkP5jUe"
      },
      "execution_count": null,
      "outputs": []
    }
  ]
}